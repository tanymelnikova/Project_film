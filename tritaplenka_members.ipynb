{
  "nbformat": 4,
  "nbformat_minor": 0,
  "metadata": {
    "colab": {
      "name": "tritaplenka_members.ipynb",
      "provenance": []
    },
    "kernelspec": {
      "display_name": "Python 3",
      "name": "python3"
    }
  },
  "cells": [
    {
      "cell_type": "code",
      "metadata": {
        "id": "ChoMkhQOPh1m",
        "outputId": "b5491f13-4840-46de-c5c6-dc986a1ef9d3",
        "colab": {
          "base_uri": "https://localhost:8080/",
          "height": 119
        }
      },
      "source": [
        "!pip install vk\n",
        "import vk\n",
        "token =   # Сервисный ключ доступа\n",
        "session = vk.Session(access_token=token)  # Авторизация\n",
        "vk_api = vk.API(session)\n",
        "personal_token =   # Персональный ключ доступа, по завершении дз можно удалить для соблюдения конфиденциальности\n",
        "session = vk.Session(access_token=personal_token)  # Авторизация\n",
        "vk_personal_api = vk.API(session)  # Авторизация"
      ],
      "execution_count": null,
      "outputs": [
        {
          "output_type": "stream",
          "text": [
            "Requirement already satisfied: vk in /usr/local/lib/python3.6/dist-packages (2.0.2)\n",
            "Requirement already satisfied: requests<3.0,>=2.8 in /usr/local/lib/python3.6/dist-packages (from vk) (2.23.0)\n",
            "Requirement already satisfied: idna<3,>=2.5 in /usr/local/lib/python3.6/dist-packages (from requests<3.0,>=2.8->vk) (2.10)\n",
            "Requirement already satisfied: certifi>=2017.4.17 in /usr/local/lib/python3.6/dist-packages (from requests<3.0,>=2.8->vk) (2020.6.20)\n",
            "Requirement already satisfied: chardet<4,>=3.0.2 in /usr/local/lib/python3.6/dist-packages (from requests<3.0,>=2.8->vk) (3.0.4)\n",
            "Requirement already satisfied: urllib3!=1.25.0,!=1.25.1,<1.26,>=1.21.1 in /usr/local/lib/python3.6/dist-packages (from requests<3.0,>=2.8->vk) (1.24.3)\n"
          ],
          "name": "stdout"
        }
      ]
    },
    {
      "cell_type": "code",
      "metadata": {
        "id": "Eq6ESYgVQQoq"
      },
      "source": [
        "def get_members(groupid, fields=('sex', 'bdate', 'city', 'country', 'domain')):\n",
        "    first = vk_api.groups.getMembers(group_id=groupid, fields=fields, v=5.92)  # Первое выполнение метода\n",
        "    data = first[\"items\"]  # Присваиваем переменной первую тысячу id'шников\n",
        "    count = first[\"count\"] // 1000  # Присваиваем переменной количество тысяч участников\n",
        "    # С каждым проходом цикла смещение offset увеличивается на тысячу\n",
        "    # и еще тысяча id'шников добавляется к нашему списку.\n",
        "    for i in range(1, count+1):  \n",
        "        data = data + vk_api.groups.getMembers(group_id=groupid, fields=fields, v=5.92, offset=i*1000)[\"items\"]\n",
        "    return data\n",
        "members=get_members(\"trita.plenka\")\n"
      ],
      "execution_count": null,
      "outputs": []
    },
    {
      "cell_type": "code",
      "metadata": {
        "id": "3rCpnMbhQm4S"
      },
      "source": [
        "def save_members_to_file(filename, members):\n",
        "    with open(filename, 'w', encoding='utf-8') as f:\n",
        "        for member in members:\n",
        "            _id = member[\"id\"] # находим айди участника\n",
        "            first_name = member[\"first_name\"] # находим имя учатника\n",
        "            last_name = member[\"last_name\"] # находим фамилию учатника\n",
        "            \n",
        "            sex = member[\"sex\"] # находим пол учатника (1 или 2)\n",
        "            if int(sex) == 1:  # если пол это 1 \n",
        "                sex = \"F\"  # обозначем женский пол как F\n",
        "            elif int(sex) == 2:  # если пол это 2 \n",
        "                sex = \"M\" # обозначем мужской пол как F\n",
        "            else:  # если есть другой какой-то пол\n",
        "                sex = \"-\"  # скорее всего нет, поэтому ставим прочерк\n",
        "                \n",
        "            bdate = member.get('bdate', \"-\")   # находим день рождения учатника\n",
        "            if len(bdate.split(\".\")) == 3:  # нам нужен только год, если он есть\n",
        "                bdate = bdate.split(\".\")[-1]  # то сохраняем год\n",
        "            else:  # если год не указан, то возраст участника мы не узнаем\n",
        "                bdate = \"-\"  # поэтому прочерк\n",
        "                \n",
        "            city = member.get('city', {}).get(\"title\", \"-\")  # находим город участника\n",
        "            country = member.get('country', {}).get(\"title\", \"-\")  # находим страну участника\n",
        "            f.write(f\"{_id},\\t{first_name}\\t{last_name}\\t{sex}\\t{bdate}\\t{city}\\t{country}\\n\")\n",
        "\n"
      ],
      "execution_count": null,
      "outputs": []
    },
    {
      "cell_type": "code",
      "metadata": {
        "id": "dLWtjkjiSUDi"
      },
      "source": [
        "import matplotlib.pyplot as plt\n",
        "import seaborn as sns"
      ],
      "execution_count": null,
      "outputs": []
    },
    {
      "cell_type": "code",
      "metadata": {
        "id": "_Xvk9XC1YMCf"
      },
      "source": [
        "save_members_to_file(\"tritaplenka_members.txt\", members)"
      ],
      "execution_count": null,
      "outputs": []
    },
    {
      "cell_type": "code",
      "metadata": {
        "id": "fO-px46Tdk26",
        "outputId": "76a6d5d0-7eb9-4da8-9785-d27605328329",
        "colab": {
          "base_uri": "https://localhost:8080/",
          "height": 17
        }
      },
      "source": [
        "from google.colab import files\n",
        "\n",
        "\n",
        "files.download(\"tritaplenka_members.txt\")"
      ],
      "execution_count": null,
      "outputs": [
        {
          "output_type": "display_data",
          "data": {
            "application/javascript": [
              "\n",
              "    async function download(id, filename, size) {\n",
              "      if (!google.colab.kernel.accessAllowed) {\n",
              "        return;\n",
              "      }\n",
              "      const div = document.createElement('div');\n",
              "      const label = document.createElement('label');\n",
              "      label.textContent = `Downloading \"${filename}\": `;\n",
              "      div.appendChild(label);\n",
              "      const progress = document.createElement('progress');\n",
              "      progress.max = size;\n",
              "      div.appendChild(progress);\n",
              "      document.body.appendChild(div);\n",
              "\n",
              "      const buffers = [];\n",
              "      let downloaded = 0;\n",
              "\n",
              "      const channel = await google.colab.kernel.comms.open(id);\n",
              "      // Send a message to notify the kernel that we're ready.\n",
              "      channel.send({})\n",
              "\n",
              "      for await (const message of channel.messages) {\n",
              "        // Send a message to notify the kernel that we're ready.\n",
              "        channel.send({})\n",
              "        if (message.buffers) {\n",
              "          for (const buffer of message.buffers) {\n",
              "            buffers.push(buffer);\n",
              "            downloaded += buffer.byteLength;\n",
              "            progress.value = downloaded;\n",
              "          }\n",
              "        }\n",
              "      }\n",
              "      const blob = new Blob(buffers, {type: 'application/binary'});\n",
              "      const a = document.createElement('a');\n",
              "      a.href = window.URL.createObjectURL(blob);\n",
              "      a.download = filename;\n",
              "      div.appendChild(a);\n",
              "      a.click();\n",
              "      div.remove();\n",
              "    }\n",
              "  "
            ],
            "text/plain": [
              "<IPython.core.display.Javascript object>"
            ]
          },
          "metadata": {
            "tags": []
          }
        },
        {
          "output_type": "display_data",
          "data": {
            "application/javascript": [
              "download(\"download_361f2d52-2a37-4b24-95e4-46f4eb41d3c6\", \"tritaplenka_members.txt\", 10008298)"
            ],
            "text/plain": [
              "<IPython.core.display.Javascript object>"
            ]
          },
          "metadata": {
            "tags": []
          }
        }
      ]
    },
    {
      "cell_type": "code",
      "metadata": {
        "id": "Lo_UFaN5dtEe"
      },
      "source": [
        "import pandas as pd\n",
        "\n",
        "df = pd.read_csv(\"tritaplenka_members.txt\", sep=\"\\t\", names=[\"id\", \"name\", \"surname\", \"sex\", \"birth\", \"city\", \"country\"])"
      ],
      "execution_count": null,
      "outputs": []
    },
    {
      "cell_type": "code",
      "metadata": {
        "id": "yx0_AMMeeHCL",
        "outputId": "7498ad57-7e18-4063-8025-3b51b8e799dc",
        "colab": {
          "base_uri": "https://localhost:8080/",
          "height": 359
        }
      },
      "source": [
        "df.head(10)"
      ],
      "execution_count": null,
      "outputs": [
        {
          "output_type": "execute_result",
          "data": {
            "text/html": [
              "<div>\n",
              "<style scoped>\n",
              "    .dataframe tbody tr th:only-of-type {\n",
              "        vertical-align: middle;\n",
              "    }\n",
              "\n",
              "    .dataframe tbody tr th {\n",
              "        vertical-align: top;\n",
              "    }\n",
              "\n",
              "    .dataframe thead th {\n",
              "        text-align: right;\n",
              "    }\n",
              "</style>\n",
              "<table border=\"1\" class=\"dataframe\">\n",
              "  <thead>\n",
              "    <tr style=\"text-align: right;\">\n",
              "      <th></th>\n",
              "      <th>id</th>\n",
              "      <th>name</th>\n",
              "      <th>surname</th>\n",
              "      <th>sex</th>\n",
              "      <th>birth</th>\n",
              "      <th>city</th>\n",
              "      <th>country</th>\n",
              "    </tr>\n",
              "  </thead>\n",
              "  <tbody>\n",
              "    <tr>\n",
              "      <th>0</th>\n",
              "      <td>348,</td>\n",
              "      <td>Galina</td>\n",
              "      <td>Rumyantseva</td>\n",
              "      <td>F</td>\n",
              "      <td>-</td>\n",
              "      <td>-</td>\n",
              "      <td>-</td>\n",
              "    </tr>\n",
              "    <tr>\n",
              "      <th>1</th>\n",
              "      <td>479,</td>\n",
              "      <td>Viktoria</td>\n",
              "      <td>Statsevich</td>\n",
              "      <td>F</td>\n",
              "      <td>1989</td>\n",
              "      <td>Saint Petersburg</td>\n",
              "      <td>Russia</td>\n",
              "    </tr>\n",
              "    <tr>\n",
              "      <th>2</th>\n",
              "      <td>734,</td>\n",
              "      <td>Dmitry</td>\n",
              "      <td>Dyuzhev</td>\n",
              "      <td>M</td>\n",
              "      <td>1989</td>\n",
              "      <td>Moscow</td>\n",
              "      <td>Russia</td>\n",
              "    </tr>\n",
              "    <tr>\n",
              "      <th>3</th>\n",
              "      <td>832,</td>\n",
              "      <td>Anton</td>\n",
              "      <td>Spartakov</td>\n",
              "      <td>M</td>\n",
              "      <td>1986</td>\n",
              "      <td>Saint Petersburg</td>\n",
              "      <td>Russia</td>\n",
              "    </tr>\n",
              "    <tr>\n",
              "      <th>4</th>\n",
              "      <td>882,</td>\n",
              "      <td>Anna</td>\n",
              "      <td>Golikova</td>\n",
              "      <td>F</td>\n",
              "      <td>-</td>\n",
              "      <td>Saint Petersburg</td>\n",
              "      <td>Russia</td>\n",
              "    </tr>\n",
              "    <tr>\n",
              "      <th>5</th>\n",
              "      <td>985,</td>\n",
              "      <td>Maria</td>\n",
              "      <td>Pavlova</td>\n",
              "      <td>F</td>\n",
              "      <td>-</td>\n",
              "      <td>-</td>\n",
              "      <td>-</td>\n",
              "    </tr>\n",
              "    <tr>\n",
              "      <th>6</th>\n",
              "      <td>1018,</td>\n",
              "      <td>Yarik</td>\n",
              "      <td>Samoylov</td>\n",
              "      <td>M</td>\n",
              "      <td>-</td>\n",
              "      <td>Moscow</td>\n",
              "      <td>Russia</td>\n",
              "    </tr>\n",
              "    <tr>\n",
              "      <th>7</th>\n",
              "      <td>1025,</td>\n",
              "      <td>Alexandra</td>\n",
              "      <td>Podzorov</td>\n",
              "      <td>F</td>\n",
              "      <td>-</td>\n",
              "      <td>-</td>\n",
              "      <td>-</td>\n",
              "    </tr>\n",
              "    <tr>\n",
              "      <th>8</th>\n",
              "      <td>1097,</td>\n",
              "      <td>Ksenia</td>\n",
              "      <td>Zakharova</td>\n",
              "      <td>F</td>\n",
              "      <td>-</td>\n",
              "      <td>Saint Petersburg</td>\n",
              "      <td>Russia</td>\n",
              "    </tr>\n",
              "    <tr>\n",
              "      <th>9</th>\n",
              "      <td>1131,</td>\n",
              "      <td>Alyona</td>\n",
              "      <td>Skolkova</td>\n",
              "      <td>F</td>\n",
              "      <td>-</td>\n",
              "      <td>-</td>\n",
              "      <td>-</td>\n",
              "    </tr>\n",
              "  </tbody>\n",
              "</table>\n",
              "</div>"
            ],
            "text/plain": [
              "      id       name      surname sex birth              city country\n",
              "0   348,     Galina  Rumyantseva   F     -                 -       -\n",
              "1   479,   Viktoria   Statsevich   F  1989  Saint Petersburg  Russia\n",
              "2   734,     Dmitry      Dyuzhev   M  1989            Moscow  Russia\n",
              "3   832,      Anton    Spartakov   M  1986  Saint Petersburg  Russia\n",
              "4   882,       Anna     Golikova   F     -  Saint Petersburg  Russia\n",
              "5   985,      Maria      Pavlova   F     -                 -       -\n",
              "6  1018,      Yarik     Samoylov   M     -            Moscow  Russia\n",
              "7  1025,  Alexandra     Podzorov   F     -                 -       -\n",
              "8  1097,     Ksenia    Zakharova   F     -  Saint Petersburg  Russia\n",
              "9  1131,     Alyona     Skolkova   F     -                 -       -"
            ]
          },
          "metadata": {
            "tags": []
          },
          "execution_count": 16
        }
      ]
    },
    {
      "cell_type": "code",
      "metadata": {
        "id": "7Oroc5JAeKYk",
        "outputId": "de29e5f8-8935-408d-ae12-de787547800e",
        "colab": {
          "base_uri": "https://localhost:8080/",
          "height": 544
        }
      },
      "source": [
        "city_count = df['city'].value_counts().drop('-')\n",
        "city_count = city_count[:30]\n",
        "print(city_count)"
      ],
      "execution_count": null,
      "outputs": [
        {
          "output_type": "stream",
          "text": [
            "Moscow                     28319\n",
            "Saint Petersburg           22326\n",
            "Kyiv                        5473\n",
            "Minsk                       4132\n",
            "Yekaterinburg               2668\n",
            "Novosibirsk                 2056\n",
            "Krasnodar                   1804\n",
            "Nizhny Novgorod             1671\n",
            "Kazan                       1588\n",
            "Rostov-on-Don               1550\n",
            "Kharkiv                     1509\n",
            "Voronezh                    1480\n",
            "Samara                      1290\n",
            "Odessa                      1240\n",
            "Krasnoyarsk                 1202\n",
            "Perm                        1104\n",
            "Chelyabinsk                 1028\n",
            "Ufa                          901\n",
            "Lviv                         896\n",
            "Vladivostok                  853\n",
            "Volgograd                    852\n",
            "Kaliningrad                  825\n",
            "Tyumen                       823\n",
            "Omsk                         803\n",
            "Almaty                       785\n",
            "Tomsk                        744\n",
            "Saratov                      652\n",
            "Irkutsk                      649\n",
            "Yaroslavl                    638\n",
            "Dnipropetrovsk (Dnipro)      621\n",
            "Name: city, dtype: int64\n"
          ],
          "name": "stdout"
        }
      ]
    },
    {
      "cell_type": "code",
      "metadata": {
        "id": "IgUws-PRgdyQ",
        "outputId": "cb6c2fac-fa3e-43e9-e20b-2ec19d1b97f1",
        "colab": {
          "base_uri": "https://localhost:8080/",
          "height": 544
        }
      },
      "source": [
        "birth_count = df['birth'].value_counts().drop('-')\n",
        "birth_count = birth_count[:30]\n",
        "print(birth_count)"
      ],
      "execution_count": null,
      "outputs": [
        {
          "output_type": "stream",
          "text": [
            "1998    6249\n",
            "1997    6058\n",
            "1996    5716\n",
            "1999    5289\n",
            "1995    5200\n",
            "2000    4541\n",
            "1994    4296\n",
            "1993    3484\n",
            "2001    3177\n",
            "1992    2913\n",
            "1991    2380\n",
            "1990    2252\n",
            "2002    2086\n",
            "1989    1677\n",
            "1988    1452\n",
            "2003    1073\n",
            "1987    1061\n",
            "1986     916\n",
            "2004     739\n",
            "1985     662\n",
            "1984     505\n",
            "1983     382\n",
            "1902     357\n",
            "1982     321\n",
            "1980     306\n",
            "1981     263\n",
            "1979     184\n",
            "1905     176\n",
            "1978     168\n",
            "1977     154\n",
            "Name: birth, dtype: int64\n"
          ],
          "name": "stdout"
        }
      ]
    },
    {
      "cell_type": "code",
      "metadata": {
        "id": "TsGnKv0Ng4pv",
        "outputId": "53c68af5-103d-4e16-9bc6-5a3c64fa8d85",
        "colab": {
          "base_uri": "https://localhost:8080/",
          "height": 442
        }
      },
      "source": [
        "sns.barplot(city_count.index, city_count.values, palette='copper') # рисуем график, выбираем цвет\n",
        "plt.title('Cities of film photography enthusiasts')\n",
        "plt.ylabel('Number of group members', fontsize=12)\n",
        "plt.xlabel('City', fontsize=12)\n",
        "plt.xticks(rotation=90) # разворачиваем подписи под городами на 90 градусов\n",
        "plt.show() # показываем изображение"
      ],
      "execution_count": null,
      "outputs": [
        {
          "output_type": "stream",
          "text": [
            "/usr/local/lib/python3.6/dist-packages/seaborn/_decorators.py:43: FutureWarning: Pass the following variables as keyword args: x, y. From version 0.12, the only valid positional argument will be `data`, and passing other arguments without an explicit keyword will result in an error or misinterpretation.\n",
            "  FutureWarning\n"
          ],
          "name": "stderr"
        },
        {
          "output_type": "display_data",
          "data": {
            "image/png": "[encoded data removed]",
            "text/plain": [
              "<Figure size 432x288 with 1 Axes>"
            ]
          },
          "metadata": {
            "tags": [],
            "needs_background": "light"
          }
        }
      ]
    },
    {
      "cell_type": "code",
      "metadata": {
        "id": "YG4a5I34hkOq",
        "outputId": "04d4f01b-c3f8-4854-a873-eef5af986086",
        "colab": {
          "base_uri": "https://localhost:8080/",
          "height": 368
        }
      },
      "source": [
        "sns.barplot(birth_count.index, birth_count.values, palette='copper') # рисуем график, выбираем цвет\n",
        "plt.title('Years of birth of film photography enthusiasts')\n",
        "plt.ylabel('Number of group members', fontsize=12)\n",
        "plt.xlabel('City', fontsize=12)\n",
        "plt.xticks(rotation=90) # разворачиваем подписи под городами на 90 градусов\n",
        "plt.show() # показываем изображение"
      ],
      "execution_count": null,
      "outputs": [
        {
          "output_type": "stream",
          "text": [
            "/usr/local/lib/python3.6/dist-packages/seaborn/_decorators.py:43: FutureWarning: Pass the following variables as keyword args: x, y. From version 0.12, the only valid positional argument will be `data`, and passing other arguments without an explicit keyword will result in an error or misinterpretation.\n",
            "  FutureWarning\n"
          ],
          "name": "stderr"
        },
        {
          "output_type": "display_data",
          "data": {
            "image/png": "[encoded data removed]",
            "text/plain": [
              "<Figure size 432x288 with 1 Axes>"
            ]
          },
          "metadata": {
            "tags": [],
            "needs_background": "light"
          }
        }
      ]
    },
    {
      "cell_type": "code",
      "metadata": {
        "id": "xgwGuk1qiD2j",
        "outputId": "638556f2-8b14-4ca4-d6a9-1a8519a34879",
        "colab": {
          "base_uri": "https://localhost:8080/",
          "height": 68
        }
      },
      "source": [
        "sex_count = df['sex'].value_counts().drop('-')\n",
        "sex_count = sex_count[:30]\n",
        "print(sex_count)"
      ],
      "execution_count": null,
      "outputs": [
        {
          "output_type": "stream",
          "text": [
            "F    154084\n",
            "M     79442\n",
            "Name: sex, dtype: int64\n"
          ],
          "name": "stdout"
        }
      ]
    },
    {
      "cell_type": "code",
      "metadata": {
        "id": "SyBoN4smhxar",
        "outputId": "fc6063a5-6c99-419b-ea33-552aed43159e",
        "colab": {
          "base_uri": "https://localhost:8080/",
          "height": 332
        }
      },
      "source": [
        "sns.barplot(sex_count.index, sex_count.values, palette='copper') # рисуем график, выбираем цвет\n",
        "plt.title('Sex of film photography enthusiasts')\n",
        "plt.ylabel('Number of group members', fontsize=12)\n",
        "plt.xlabel('Sex', fontsize=12)\n",
        "plt.show() # показываем изображение\n"
      ],
      "execution_count": null,
      "outputs": [
        {
          "output_type": "stream",
          "text": [
            "/usr/local/lib/python3.6/dist-packages/seaborn/_decorators.py:43: FutureWarning: Pass the following variables as keyword args: x, y. From version 0.12, the only valid positional argument will be `data`, and passing other arguments without an explicit keyword will result in an error or misinterpretation.\n",
            "  FutureWarning\n"
          ],
          "name": "stderr"
        },
        {
          "output_type": "display_data",
          "data": {
            "image/png": "[encoded data removed]",
            "text/plain": [
              "<Figure size 432x288 with 1 Axes>"
            ]
          },
          "metadata": {
            "tags": [],
            "needs_background": "light"
          }
        }
      ]
    },
    {
      "cell_type": "code",
      "metadata": {
        "id": "xkALmaQmh1Zc",
        "outputId": "5ad425be-1ad2-4c0f-fddc-fff541393b21",
        "colab": {
          "base_uri": "https://localhost:8080/",
          "height": 119
        }
      },
      "source": [
        "new_df = df[df['sex'].ne('-')] # оставлем тех, кто указал свой пол\n",
        "new_df['birth'] = pd.to_numeric(new_df['birth'], errors='coerce') # оставлем тех, кто указал свой возраст"
      ],
      "execution_count": null,
      "outputs": [
        {
          "output_type": "stream",
          "text": [
            "/usr/local/lib/python3.6/dist-packages/ipykernel_launcher.py:2: SettingWithCopyWarning: \n",
            "A value is trying to be set on a copy of a slice from a DataFrame.\n",
            "Try using .loc[row_indexer,col_indexer] = value instead\n",
            "\n",
            "See the caveats in the documentation: https://pandas.pydata.org/pandas-docs/stable/user_guide/indexing.html#returning-a-view-versus-a-copy\n",
            "  \n"
          ],
          "name": "stderr"
        }
      ]
    },
    {
      "cell_type": "code",
      "metadata": {
        "id": "1sWlPsJSiXGY",
        "outputId": "86cf6327-a024-4c67-982c-d457368d3edb",
        "colab": {
          "base_uri": "https://localhost:8080/",
          "height": 334
        }
      },
      "source": [
        "plt.figure(figsize=(10,5)) # размер графика\n",
        "sns.boxplot(x=\"birth\", y=\"sex\", data=new_df) # строим график\n",
        "plt.show()"
      ],
      "execution_count": null,
      "outputs": [
        {
          "output_type": "display_data",
          "data": {
            "image/png": "[encoded data removed]",
            "text/plain": [
              "<Figure size 720x360 with 1 Axes>"
            ]
          },
          "metadata": {
            "tags": [],
            "needs_background": "light"
          }
        }
      ]
    },
    {
      "cell_type": "code",
      "metadata": {
        "id": "AKraCVRZibVr"
      },
      "source": [
        ""
      ],
      "execution_count": null,
      "outputs": []
    }
  ]
}