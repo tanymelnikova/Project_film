{
 "cells": [
  {
   "cell_type": "code",
   "execution_count": 54,
   "metadata": {},
   "outputs": [],
   "source": [
    "#Территория развития плёночной фотографии. Паблик \"пленКа\""
   ]
  },
  {
   "cell_type": "code",
   "execution_count": 1,
   "metadata": {},
   "outputs": [],
   "source": [
    "import vk"
   ]
  },
  {
   "cell_type": "code",
   "execution_count": 2,
   "metadata": {},
   "outputs": [],
   "source": [
    "token = \"\"\n",
    "session = vk.Session(access_token=token)\n",
    "vk_api = vk.API(session) "
   ]
  },
  {
   "cell_type": "code",
   "execution_count": 3,
   "metadata": {},
   "outputs": [],
   "source": [
    "personal_token = \"\"\n",
    "session = vk.Session(access_token=personal_token) \n",
    "vk_personal_api = vk.API(session) "
   ]
  },
  {
   "cell_type": "code",
   "execution_count": 4,
   "metadata": {},
   "outputs": [],
   "source": [
    "def get_members(groupid, fields=('sex', 'bdate', 'city', 'country', 'domain')):\n",
    "    first = vk_api.groups.getMembers(group_id=groupid, fields=fields, v=5.92)  # Первое выполнение метода\n",
    "    data = first[\"items\"]  # Присваиваем переменной первую тысячу id'шников\n",
    "    count = first[\"count\"] // 1000  # Присваиваем переменной количество тысяч участников\n",
    "    # С каждым проходом цикла смещение offset увеличивается на тысячу\n",
    "    # и еще тысяча id'шников добавляется к нашему списку.\n",
    "    for i in range(1, count+1):  \n",
    "        data = data + vk_api.groups.getMembers(group_id=groupid, fields=fields, v=5.92, offset=i*1000)[\"items\"]\n",
    "    return data"
   ]
  },
  {
   "cell_type": "code",
   "execution_count": 5,
   "metadata": {},
   "outputs": [],
   "source": [
    "members = get_members(\"plenka_predlozhka\")"
   ]
  },
  {
   "cell_type": "code",
   "execution_count": 6,
   "metadata": {},
   "outputs": [
    {
     "data": {
      "text/plain": [
       "36601"
      ]
     },
     "execution_count": 6,
     "metadata": {},
     "output_type": "execute_result"
    }
   ],
   "source": [
    "len (members)"
   ]
  },
  {
   "cell_type": "code",
   "execution_count": 7,
   "metadata": {},
   "outputs": [],
   "source": [
    "def save_members_to_file(filename, members):\n",
    "    with open(filename, 'w', encoding='utf-8') as f:\n",
    "        for member in members:\n",
    "            _id = member[\"id\"] # находим айди участника\n",
    "            first_name = member[\"first_name\"] # находим имя учатника\n",
    "            last_name = member[\"last_name\"] # находим фамилию учатника\n",
    "            \n",
    "            sex = member[\"sex\"] # находим пол учатника (1 или 2)\n",
    "            if int(sex) == 1:  # если пол это 1 \n",
    "                sex = \"F\"  # обозначем женский пол как F\n",
    "            elif int(sex) == 2:  # если пол это 2 \n",
    "                sex = \"M\" # обозначем мужской пол как F\n",
    "            else:  # если есть другой какой-то пол\n",
    "                sex = \"-\"  # скорее всего нет, поэтому ставим прочерк\n",
    "                \n",
    "            bdate = member.get('bdate', \"-\")   # находим день рождения учатника\n",
    "            if len(bdate.split(\".\")) == 3:  # нам нужен только год, если он есть\n",
    "                bdate = bdate.split(\".\")[-1]  # то сохраняем год\n",
    "            else:  # если год не указан, то возраст участника мы не узнаем\n",
    "                bdate = \"-\"  # поэтому прочерк\n",
    "                \n",
    "            city = member.get('city', {}).get(\"title\", \"-\")  # находим город участника\n",
    "            country = member.get('country', {}).get(\"title\", \"-\")  # находим страну участника\n",
    "            f.write(f\"{_id},\\t{first_name}\\t{last_name}\\t{sex}\\t{bdate}\\t{city}\\t{country}\\n\")  # сохраняем информацию в файл"
   ]
  },
  {
   "cell_type": "code",
   "execution_count": 28,
   "metadata": {},
   "outputs": [],
   "source": [
    "save_members_to_file (\"plenka_predlozhka_members.tsv\", members)"
   ]
  },
  {
   "cell_type": "code",
   "execution_count": 8,
   "metadata": {},
   "outputs": [],
   "source": [
    "import matplotlib.pyplot as plt\n",
    "import seaborn as sns"
   ]
  },
  {
   "cell_type": "code",
   "execution_count": 10,
   "metadata": {},
   "outputs": [],
   "source": [
    "import pandas as pd\n",
    "\n",
    "df = pd.read_csv(\"plenka_predlozhka_members.tsv\", sep=\"\\t\", names=[\"id\", \"name\", \"surname\", \"sex\", \"birth\", \"city\", \"country\"])"
   ]
  },
  {
   "cell_type": "code",
   "execution_count": 11,
   "metadata": {},
   "outputs": [
    {
     "name": "stdout",
     "output_type": "stream",
     "text": [
      "Moscow                     2640\n",
      "Saint Petersburg           1119\n",
      "Kyiv                        754\n",
      "Yekaterinburg               493\n",
      "Krasnodar                   428\n",
      "Minsk                       322\n",
      "Rostov-on-Don               266\n",
      "Chelyabinsk                 256\n",
      "Kazan                       252\n",
      "Kharkiv                     218\n",
      "Odessa                      205\n",
      "Novosibirsk                 196\n",
      "Nizhny Novgorod             190\n",
      "Vladivostok                 174\n",
      "Lviv                        163\n",
      "Almaty                      163\n",
      "Volgograd                   149\n",
      "Samara                      143\n",
      "Dnipropetrovsk (Dnipro)     141\n",
      "Ufa                         140\n",
      "Krasnoyarsk                 124\n",
      "Perm                        123\n",
      "Saratov                     123\n",
      "Voronezh                    122\n",
      "Khabarovsk                  116\n",
      "Los Angeles                 114\n",
      "New York City               113\n",
      "Tyumen                      102\n",
      "Omsk                         90\n",
      "Barnaul                      88\n",
      "Name: city, dtype: int64\n"
     ]
    }
   ],
   "source": [
    "city_count = df['city'].value_counts().drop('-') # считаем города и удаляем отсутствие города в табличке: \"-\"\n",
    "city_count = city_count[:30] # первые 30 городов\n",
    "print(city_count)"
   ]
  },
  {
   "cell_type": "code",
   "execution_count": 12,
   "metadata": {},
   "outputs": [
    {
     "name": "stdout",
     "output_type": "stream",
     "text": [
      "F    31680\n",
      "M     4841\n",
      "Name: sex, dtype: int64\n"
     ]
    }
   ],
   "source": [
    "sex_count = df['sex'].value_counts().drop('-') # считаем города и удаляем отсутствие города в табличке: \"-\"\n",
    "print(sex_count)"
   ]
  },
  {
   "cell_type": "code",
   "execution_count": 13,
   "metadata": {},
   "outputs": [
    {
     "name": "stdout",
     "output_type": "stream",
     "text": [
      "1999    1122\n",
      "1998    1105\n",
      "2000    1024\n",
      "1997     984\n",
      "1996     810\n",
      "2001     717\n",
      "1995     574\n",
      "1994     443\n",
      "2002     429\n",
      "1993     340\n",
      "1992     228\n",
      "1990     211\n",
      "2003     207\n",
      "1991     171\n",
      "1988     108\n",
      "1989     106\n",
      "2004     104\n",
      "1987      80\n",
      "1985      61\n",
      "1986      54\n",
      "2005      46\n",
      "2006      46\n",
      "1980      38\n",
      "1982      37\n",
      "1905      37\n",
      "1902      34\n",
      "1984      34\n",
      "1983      33\n",
      "1979      26\n",
      "1981      24\n",
      "Name: birth, dtype: int64\n"
     ]
    }
   ],
   "source": [
    "birth_count = df['birth'].value_counts().drop('-') # считаем города и удаляем отсутствие города в табличке: \"-\"\n",
    "birth_count = birth_count[:30] # первые 30 городов\n",
    "print(birth_count)"
   ]
  },
  {
   "cell_type": "code",
   "execution_count": 14,
   "metadata": {},
   "outputs": [
    {
     "data": {
      "image/png": "[encoded data removed]",
      "text/plain": [
       "<Figure size 432x288 with 1 Axes>"
      ]
     },
     "metadata": {
      "needs_background": "light"
     },
     "output_type": "display_data"
    }
   ],
   "source": [
    "city_count.plot.bar()\n",
    "sns.barplot(city_count.index, city_count.values, palette='copper') # рисуем график, выбираем цвет\n",
    "plt.title('Cities of film photography enthusiasts')\n",
    "plt.ylabel('Number of group members', fontsize=12)\n",
    "plt.xlabel('City', fontsize=12)\n",
    "plt.xticks(rotation=90) # разворачиваем подписи под городами на 90 градусов\n",
    "plt.show() # показываем изображение"
   ]
  },
  {
   "cell_type": "code",
   "execution_count": 15,
   "metadata": {},
   "outputs": [
    {
     "data": {
      "image/png": "[encoded data removed]",
      "text/plain": [
       "<Figure size 432x288 with 1 Axes>"
      ]
     },
     "metadata": {
      "needs_background": "light"
     },
     "output_type": "display_data"
    }
   ],
   "source": [
    "sns.barplot(sex_count.index, sex_count.values, palette='copper') # рисуем график, выбираем цвет\n",
    "plt.title('Sexes of film photography enthusiasts')\n",
    "plt.ylabel('Number of group members', fontsize=12)\n",
    "plt.xlabel('Sex', fontsize=12)\n",
    "plt.show() # показываем изображение"
   ]
  },
  {
   "cell_type": "code",
   "execution_count": 56,
   "metadata": {},
   "outputs": [
    {
     "data": {
      "image/png": "[encoded data removed]",
      "text/plain": [
       "<Figure size 432x288 with 1 Axes>"
      ]
     },
     "metadata": {
      "needs_background": "light"
     },
     "output_type": "display_data"
    }
   ],
   "source": [
    "sns.barplot(birth_count.index, birth_count.values, palette='copper') # рисуем график, выбираем цвет\n",
    "plt.title('Birth years of film photography enthusiasts')\n",
    "plt.ylabel('Number of group members', fontsize=12)\n",
    "plt.xlabel('Birth year', fontsize=12)\n",
    "plt.xticks(rotation=90) # разворачиваем подписи под городами на 90 градусов\n",
    "plt.show() # показываем изображение"
   ]
  },
  {
   "cell_type": "code",
   "execution_count": 17,
   "metadata": {},
   "outputs": [
    {
     "name": "stderr",
     "output_type": "stream",
     "text": [
      "<ipython-input-17-79f7398bdecb>:2: SettingWithCopyWarning: \n",
      "A value is trying to be set on a copy of a slice from a DataFrame.\n",
      "Try using .loc[row_indexer,col_indexer] = value instead\n",
      "\n",
      "See the caveats in the documentation: https://pandas.pydata.org/pandas-docs/stable/user_guide/indexing.html#returning-a-view-versus-a-copy\n",
      "  new_df['birth'] = pd.to_numeric(new_df['birth'], errors='coerce') # оставлем тех, кто указал свой возраст\n"
     ]
    }
   ],
   "source": [
    "new_df = df[df['sex'].ne('-')] # оставлем тех, кто указал свой пол\n",
    "new_df['birth'] = pd.to_numeric(new_df['birth'], errors='coerce') # оставлем тех, кто указал свой возраст"
   ]
  },
  {
   "cell_type": "code",
   "execution_count": 18,
   "metadata": {},
   "outputs": [
    {
     "data": {
      "image/png": "[encoded data removed]",
      "text/plain": [
       "<Figure size 720x360 with 1 Axes>"
      ]
     },
     "metadata": {
      "needs_background": "light"
     },
     "output_type": "display_data"
    }
   ],
   "source": [
    "plt.figure(figsize=(10,5)) # размер графика\n",
    "sns.boxplot(x=\"birth\", y=\"sex\", data=new_df) # строим график\n",
    "plt.show()"
   ]
  },
  {
   "cell_type": "code",
   "execution_count": 19,
   "metadata": {},
   "outputs": [],
   "source": [
    "def get_posts(owner_id):\n",
    "    first = vk_api.wall.get(domain=owner_id, count=100, filter=\"owner\", v=5.124)\n",
    "    data = first[\"items\"]  # Присваиваем переменной первую тысячу id'шников\n",
    "    count = first[\"count\"] // 100  # Присваиваем переменной количество тысяч участников\n",
    "    # С каждым проходом цикла смещение offset увеличивается на тысячу\n",
    "    # и еще тысяча id'шников добавляется к нашему списку.\n",
    "    for i in range(1, count+1):  \n",
    "        data += vk_api.wall.get(domain=owner_id, v=5.124, filter=\"owner\", count=100, offset=i*100)[\"items\"]\n",
    "    return [i['text'] for i in data]"
   ]
  },
  {
   "cell_type": "code",
   "execution_count": 20,
   "metadata": {},
   "outputs": [],
   "source": [
    "posts = get_posts('plenka_predlozhka')"
   ]
  },
  {
   "cell_type": "code",
   "execution_count": 21,
   "metadata": {},
   "outputs": [
    {
     "data": {
      "text/plain": [
       "50"
      ]
     },
     "execution_count": 21,
     "metadata": {},
     "output_type": "execute_result"
    }
   ],
   "source": [
    "len (posts)"
   ]
  },
  {
   "cell_type": "code",
   "execution_count": 22,
   "metadata": {},
   "outputs": [],
   "source": [
    "from datetime import datetime"
   ]
  },
  {
   "cell_type": "code",
   "execution_count": 23,
   "metadata": {},
   "outputs": [],
   "source": [
    "def get_posts(owner_id):\n",
    "    first = vk_api.wall.get(domain=owner_id, count=100, filter=\"owner\", v=5.124)\n",
    "    data = first[\"items\"]  # Присваиваем переменной первую тысячу id'шников\n",
    "    count = first[\"count\"] // 100  # Присваиваем переменной количество тысяч участников\n",
    "    # С каждым проходом цикла смещение offset увеличивается на тысячу\n",
    "    # и еще тысяча id'шников добавляется к нашему списку.\n",
    "    for i in range(1, count+1):  \n",
    "        data += vk_api.wall.get(domain=owner_id, v=5.124, filter=\"owner\", count=100, offset=i*100)[\"items\"]\n",
    "    return data"
   ]
  },
  {
   "cell_type": "code",
   "execution_count": 24,
   "metadata": {},
   "outputs": [],
   "source": [
    "posts = get_posts('plenka_predlozhka')"
   ]
  },
  {
   "cell_type": "code",
   "execution_count": 25,
   "metadata": {},
   "outputs": [
    {
     "name": "stdout",
     "output_type": "stream",
     "text": [
      "ПРАВИЛА ПРЕДЛОЖКИ! \n",
      "\n",
      "Придерживайтесь стилистики:  \n",
      "\n",
      "Camera: \n",
      "Film: \n",
      "instagram.com/ ... \n",
      "\n",
      "Инстаграм должен быть прописан ссылкой, так вас будет удобнее находить. \n",
      "\n",
      "Посты, предложенные в обход формату публиковаться не будут — давайте уважать чужое время. Спасибо.\n",
      "likes: 0\n",
      "reposts: 0\n",
      "comments: 0\n",
      "2020\n",
      "==========\n",
      "Camera: Зенит-19\n",
      "Film: Ilford pan 100\n",
      "Inst: https://www.instagram.com/privet_norton/\n",
      "likes: 1\n",
      "reposts: 0\n",
      "comments: 0\n",
      "2020\n",
      "==========\n",
      "Camera: ФЭД-5\n",
      "Film: Kodak Portra 400VC\n",
      "instagram.com/leeroy.photo\n",
      "likes: 3\n",
      "reposts: 0\n",
      "comments: 0\n",
      "2020\n",
      "==========\n",
      "Camera: Zenit 122 \n",
      "Film: Kodak ColorPlus 200 \n",
      "instagram.com/alikfilm\n",
      "likes: 5\n",
      "reposts: 0\n",
      "comments: 0\n",
      "2020\n",
      "==========\n",
      "Разбираемся, почему, несмотря на все производственные сложности, большие кинематографисты и начинающие режиссеры сегодня выбирают снимать на пленку. Что стоит за этим: тоска по прошлому или желание приобщиться к большой традиции?\n",
      "likes: 1\n",
      "reposts: 0\n",
      "comments: 0\n",
      "2020\n",
      "==========\n",
      "Camera: ?\n",
      "Film: kodak vision 500t, ilford pan 100 \n",
      "instagram.com/timfreerider\n",
      "likes: 3\n",
      "reposts: 0\n",
      "comments: 0\n",
      "2020\n",
      "==========\n",
      "Camera: Zenit122\n",
      "Film: Kodak Portra 400\n",
      "https://instagram.com/alikfilm\n",
      "likes: 3\n",
      "reposts: 0\n",
      "comments: 0\n",
      "2020\n",
      "==========\n",
      "Camera: ?\n",
      "Film: Kodak portra 160 \n",
      "instagram.com/timfreerider\n",
      "likes: 4\n",
      "reposts: 0\n",
      "comments: 0\n",
      "2020\n",
      "==========\n",
      "Zenit EM\n",
      "Helios-44m\n",
      "inst: gnoteintensifies \n",
      "\n",
      "#пленка #35мм\n",
      "likes: 5\n",
      "reposts: 0\n",
      "comments: 0\n",
      "2020\n",
      "==========\n",
      "Canon EOS 3000\n",
      "Kodak colorplus 200\n",
      "Тюмень\n",
      "\n",
      "inst: strelyaet.ph\n",
      "likes: 1\n",
      "reposts: 0\n",
      "comments: 0\n",
      "2020\n",
      "==========\n",
      "Canon 300\n",
      "Kodak 100\n",
      "\n",
      "inst: razbil_litso\n",
      "likes: 3\n",
      "reposts: 0\n",
      "comments: 0\n",
      "2020\n",
      "==========\n",
      "canon eos 300v \n",
      "kodak ultra max 400 expired 2009\n",
      "\n",
      "📸iamprettyodd\n",
      "likes: 6\n",
      "reposts: 0\n",
      "comments: 0\n",
      "2020\n",
      "==========\n",
      "Olympus 80g + какая-то просрочка \n",
      "Inst: yalehovitskaya\n",
      "likes: 7\n",
      "reposts: 0\n",
      "comments: 0\n",
      "2020\n",
      "==========\n",
      "Olympus 80g + infold pan400\n",
      "Inst: yalehovitskaya\n",
      "likes: 2\n",
      "reposts: 0\n",
      "comments: 0\n",
      "2020\n",
      "==========\n",
      "canon eos 300z\n",
      "kodak ultra max 400 2009(expired)\n",
      "\n",
      "📸iamprettyodd\n",
      "likes: 3\n",
      "reposts: 0\n",
      "comments: 0\n",
      "2020\n",
      "==========\n",
      "Samsung fino 40s \n",
      "Kodak GOLD 200 \n",
      "PH: [id53908515|Паша Максимов] \n",
      "Inst: @maksi.mov\n",
      "likes: 5\n",
      "reposts: 0\n",
      "comments: 0\n",
      "2020\n",
      "==========\n",
      "Olympus 80g + kodak200\n",
      "Inst: yalehovitskaya\n",
      "likes: 6\n",
      "reposts: 0\n",
      "comments: 0\n",
      "2020\n",
      "==========\n",
      "Июль, Ладога\n",
      "2020\n",
      "\n",
      "Pentax\n",
      "Ilford pan 400\n",
      "\n",
      "inst: m.a.y.__h\n",
      "likes: 6\n",
      "reposts: 0\n",
      "comments: 0\n",
      "2020\n",
      "==========\n",
      "Казань\n",
      "Nikon F65 + Nikon 35mm f/1.4G AF-S\n",
      "Kodak Ultramax 400 + Fujifilm Superia X-tra 400\n",
      "\n",
      "Ph: [club128108435|Марат Сафин]\n",
      "likes: 6\n",
      "reposts: 0\n",
      "comments: 0\n",
      "2020\n",
      "==========\n",
      "olympus superzoom 700xb \n",
      "kodak 200\n",
      "inst: vladaxlee\n",
      "likes: 4\n",
      "reposts: 0\n",
      "comments: 0\n",
      "2020\n",
      "==========\n",
      "Canon ftb ql\n",
      "Canon fd 50mm\n",
      "Kodak Vision 500T\n",
      "\n",
      "Больше фотографий здесь:\n",
      "https://instagram.com/matuzok.film\n",
      "likes: 12\n",
      "reposts: 2\n",
      "comments: 0\n",
      "2020\n",
      "==========\n",
      "Зенит 11\n",
      "Kodak ColorPlus 200\n",
      "inst: dark_edd\n",
      "likes: 5\n",
      "reposts: 0\n",
      "comments: 0\n",
      "2020\n",
      "==========\n",
      "Canon AE1 \n",
      "Kodak portra 160\n",
      "likes: 5\n",
      "reposts: 0\n",
      "comments: 0\n",
      "2020\n",
      "==========\n",
      "Санкт-Петербург\n",
      "Olympus XA\n",
      "likes: 15\n",
      "reposts: 0\n",
      "comments: 0\n",
      "2020\n",
      "==========\n",
      "Italy\n",
      "Olympus mju III\n",
      "likes: 9\n",
      "reposts: 0\n",
      "comments: 0\n",
      "2020\n",
      "==========\n",
      "Pentax67\n",
      "Kodak Ektar'100\n",
      "Inst sunnywolverine\n",
      "likes: 4\n",
      "reposts: 0\n",
      "comments: 0\n",
      "2020\n",
      "==========\n",
      "Пленка Тасма тип 25\n",
      "Камера Canon EOS 5, 50mm/1.8\n",
      "\n",
      "Больше фото здесь: \n",
      "https://www.instagram.com/praktikaa/\n",
      "likes: 6\n",
      "reposts: 0\n",
      "comments: 0\n",
      "2020\n",
      "==========\n",
      "Nikon F65 + Nikon 35mm f/1.4G AF-S\n",
      "Kodak Portra 400\n",
      "\n",
      "Ph: [club128108435|Марат Сафин]\n",
      "likes: 24\n",
      "reposts: 0\n",
      "comments: 1\n",
      "2020\n",
      "==========\n",
      "Санкт-Петербург, белые ночи \n",
      "Olympus mju ii \n",
      "Kodak ultramax 400\n",
      "likes: 11\n",
      "reposts: 0\n",
      "comments: 0\n",
      "2020\n",
      "==========\n",
      "лето, питер, калуга, моя лиза, kodak ektachrome \n",
      " \n",
      "inst: timfreerider\n",
      "likes: 8\n",
      "reposts: 0\n",
      "comments: 0\n",
      "2020\n",
      "==========\n",
      "Canon ae-1\n",
      "Portra 800\n",
      "likes: 10\n",
      "reposts: 0\n",
      "comments: 0\n",
      "2020\n",
      "==========\n",
      "Pentax SP\n",
      "Kodak\n",
      "likes: 5\n",
      "reposts: 0\n",
      "comments: 1\n",
      "2020\n",
      "==========\n",
      "Olympus om4Ti \n",
      "Ilford pan 400\n",
      "\n",
      "https://www.instagram.com/ksenofontovfoto35mm\n",
      "likes: 3\n",
      "reposts: 0\n",
      "comments: 0\n",
      "2020\n",
      "==========\n",
      "Leica M6\n",
      "Kodak TRI-X 400\n",
      "likes: 9\n",
      "reposts: 0\n",
      "comments: 0\n",
      "2020\n",
      "==========\n",
      "Olimpus mju ll \n",
      "Пленка Tasma - тип 42                              Instagram: polushkin_ivan\n",
      "likes: 4\n",
      "reposts: 0\n",
      "comments: 0\n",
      "2020\n",
      "==========\n",
      "Bronica SQ-A, Zenzanon 80/2.8\n",
      "Ilford Delta 400\n",
      "likes: 5\n",
      "reposts: 0\n",
      "comments: 0\n",
      "2020\n",
      "==========\n",
      "Portra 160 100 \n",
      "Bronica SQ-A, Zenzanon S 150/3.5 \n",
      "\n",
      "https://www.instagram.com/barnsphoto\n",
      "\n",
      "#сканируйтевкрасноярске\n",
      "likes: 4\n",
      "reposts: 1\n",
      "comments: 0\n",
      "2020\n",
      "==========\n",
      "Nikon F100\n",
      "Kodak Vision 3 250D\n",
      "likes: 3\n",
      "reposts: 0\n",
      "comments: 0\n",
      "2020\n",
      "==========\n",
      "Зенит Е, fujifilm superia \n",
      "Inst: @k.filmph\n",
      "likes: 6\n",
      "reposts: 0\n",
      "comments: 0\n",
      "2020\n",
      "==========\n",
      "\n",
      "likes: 13\n",
      "reposts: 1\n",
      "comments: 0\n",
      "2020\n",
      "==========\n",
      "Fuji 🌿\n",
      "likes: 11\n",
      "reposts: 0\n",
      "comments: 0\n",
      "2020\n",
      "==========\n",
      "Ektar 100\n",
      "Bronica SQ-A, Zenzanon S 50/3.5\n",
      "\n",
      "Inst: barnsphoto\n",
      "likes: 9\n",
      "reposts: 0\n",
      "comments: 0\n",
      "2020\n",
      "==========\n",
      "Ilford PAN 400\n",
      "Zenit 11\n",
      "\n",
      "Inst: noiseroller\n",
      "likes: 7\n",
      "reposts: 0\n",
      "comments: 0\n",
      "2020\n",
      "==========\n",
      "Portra 800\n",
      "Bronica SQ-A\n",
      "\n",
      "Inst: barnsphoto\n",
      "likes: 11\n",
      "reposts: 1\n",
      "comments: 0\n",
      "2020\n",
      "==========\n",
      "Portra 400\n",
      "\n",
      "Inst: lisa_snezh\n",
      "likes: 12\n",
      "reposts: 0\n",
      "comments: 0\n",
      "2020\n",
      "==========\n",
      "Nikon F100\n",
      "FujiColor C200\n",
      "\n",
      "Inst: evgenykachin\n",
      "likes: 5\n",
      "reposts: 0\n",
      "comments: 0\n",
      "2020\n",
      "==========\n",
      "Kodak gold \n",
      " \n",
      "Inst: timfreerider\n",
      "likes: 7\n",
      "reposts: 0\n",
      "comments: 0\n",
      "2020\n",
      "==========\n",
      "Ilford HP5 \n",
      "Pentax 67II\n",
      "likes: 5\n",
      "reposts: 0\n",
      "comments: 0\n",
      "2020\n",
      "==========\n",
      "Nikon F100\n",
      "Ilford FP4 Plus 125\n",
      "likes: 7\n",
      "reposts: 0\n",
      "comments: 0\n",
      "2020\n",
      "==========\n",
      "Mamiya rb 67 + самодельный объектив \"монокль\"\n",
      "likes: 2\n",
      "reposts: 0\n",
      "comments: 0\n",
      "2020\n",
      "==========\n"
     ]
    }
   ],
   "source": [
    "for i in posts:\n",
    "    print(i['text']) #тексты\n",
    "\n",
    "    print('likes:', i['likes']['count']) # количество лайков\n",
    "    print('reposts:', i['reposts']['count']) # количество репостов\n",
    "    print('comments:', i['comments']['count']) # количество комментариев\n",
    "\n",
    "    date = datetime.fromtimestamp(i['date'])\n",
    "    print(date.year)\n",
    "\n",
    "    print(\"==========\")"
   ]
  },
  {
   "cell_type": "code",
   "execution_count": 26,
   "metadata": {},
   "outputs": [],
   "source": [
    "with open(\"posts.txt\", 'w', encoding=\"utf-8\") as f:\n",
    "    for i in posts:\n",
    "        texts = i['text']\n",
    "        likes = 'likes:', i['likes']['count']\n",
    "        reposts = 'reposts:', i['reposts']['count']\n",
    "        comments = 'comments:', i['comments']['count']\n",
    "        date = datetime.fromtimestamp(i['date'])\n",
    "        year = date.year\n",
    "        f.write (str(texts)+\"\\n\" + str(likes) +\"\\n\"+ str(reposts)+\"\\n\"+ str(comments)+\"\\n\"+ str(date)+\"\\n\"+ str(year)+\"\\n\" + \"=========\"+\"\\n\")"
   ]
  },
  {
   "cell_type": "code",
   "execution_count": 27,
   "metadata": {},
   "outputs": [],
   "source": [
    "from nltk.tokenize import word_tokenize\n",
    "from collections import Counter"
   ]
  },
  {
   "cell_type": "code",
   "execution_count": 28,
   "metadata": {},
   "outputs": [],
   "source": [
    "with open(\"posts.txt\", 'r', encoding='utf-8') as f:\n",
    "    texts = f.read().lower()"
   ]
  },
  {
   "cell_type": "code",
   "execution_count": 58,
   "metadata": {},
   "outputs": [
    {
     "data": {
      "text/plain": [
       "1751"
      ]
     },
     "execution_count": 58,
     "metadata": {},
     "output_type": "execute_result"
    }
   ],
   "source": [
    "words = word_tokenize(texts)\n",
    "len(words)"
   ]
  },
  {
   "cell_type": "code",
   "execution_count": 29,
   "metadata": {},
   "outputs": [
    {
     "name": "stderr",
     "output_type": "stream",
     "text": [
      "[nltk_data] Downloading package punkt to\n",
      "[nltk_data]     C:\\Users\\User\\AppData\\Roaming\\nltk_data...\n",
      "[nltk_data]   Package punkt is already up-to-date!\n"
     ]
    },
    {
     "data": {
      "text/plain": [
       "True"
      ]
     },
     "execution_count": 29,
     "metadata": {},
     "output_type": "execute_result"
    }
   ],
   "source": [
    "import nltk\n",
    "nltk.download('punkt')"
   ]
  },
  {
   "cell_type": "code",
   "execution_count": 31,
   "metadata": {},
   "outputs": [],
   "source": [
    "with open(\"stopwords_russian.txt\", 'r', encoding=\"utf-8\") as f:\n",
    "    stop_words = f.read().lower().split(\"\\n\")\n",
    "    stop_words = set(stop_words)"
   ]
  },
  {
   "cell_type": "code",
   "execution_count": 32,
   "metadata": {},
   "outputs": [
    {
     "data": {
      "text/plain": [
       "557"
      ]
     },
     "execution_count": 32,
     "metadata": {},
     "output_type": "execute_result"
    }
   ],
   "source": [
    "words = [i for i in words if i.isalnum()]\n",
    "len(words)"
   ]
  },
  {
   "cell_type": "code",
   "execution_count": 33,
   "metadata": {},
   "outputs": [],
   "source": [
    "clean_words = [word for word in words if word not in stop_words]"
   ]
  },
  {
   "cell_type": "code",
   "execution_count": 34,
   "metadata": {
    "scrolled": true
   },
   "outputs": [
    {
     "name": "stdout",
     "output_type": "stream",
     "text": [
      "Было: 557, Стало: 479\n"
     ]
    }
   ],
   "source": [
    "print(f\"Было: {len(words)}, Стало: {len(clean_words)}\")"
   ]
  },
  {
   "cell_type": "code",
   "execution_count": 50,
   "metadata": {},
   "outputs": [
    {
     "name": "stdout",
     "output_type": "stream",
     "text": [
      "[('0', 95), ('2020', 51), ('kodak', 23), ('inst', 20), ('400', 13), ('portra', 9), ('canon', 9), ('ilford', 8), ('olympus', 8), ('camera', 7), ('film', 7), ('nikon', 7), ('https', 6), ('pan', 5), ('100', 5), ('200', 5), ('11', 5), ('eos', 4), ('bronica', 4), ('zenit', 3), ('colorplus', 3), ('vision', 3), ('160', 3), ('пленка', 3), ('80g', 3), ('yalehovitskaya', 3), ('ph', 3), ('pentax', 3), ('mju', 3), ('zenzanon', 3), ('f100', 3), ('500t', 2), ('ultra', 2), ('max', 2), ('expired', 2), ('2009', 2), ('gold', 2), ('f65', 2), ('35mm', 2), ('ultramax', 2), ('fujifilm', 2), ('superia', 2), ('сафин', 2), ('12', 2), ('зенит', 2), ('тип', 2), ('timfreerider', 2), ('800', 2), ('s', 2), ('barnsphoto', 2)]\n"
     ]
    }
   ],
   "source": [
    "count_words = Counter(clean_words).most_common(50)\n",
    "print (count_words)"
   ]
  },
  {
   "cell_type": "code",
   "execution_count": 42,
   "metadata": {},
   "outputs": [],
   "source": [
    "with open(\"besporyadokitehnologia_members\", 'r', encoding='utf-8') as f:\n",
    "    members1 = f.read().split(\"\\n\")\n",
    "    \n",
    "with open(\"zonazeleni_members\", 'r', encoding='utf-8') as f:\n",
    "    members2 = f.read().split(\"\\n\")\n",
    "    \n",
    "with open(\"tritaplenka_members.txt\", 'r', encoding='utf-8') as f:\n",
    "    members3 = f.read().split(\"\\n\")\n",
    "\n",
    "with open(\"plenka_predlozhka_members.tsv\", 'r', encoding='utf-8') as f:\n",
    "    members4 = f.read().split(\"\\n\")"
   ]
  },
  {
   "cell_type": "code",
   "execution_count": 43,
   "metadata": {},
   "outputs": [],
   "source": [
    "members1 = set(members1)\n",
    "members2 = set(members2)\n",
    "members3 = set(members3)\n",
    "members4 = set(members4)"
   ]
  },
  {
   "cell_type": "code",
   "execution_count": 59,
   "metadata": {},
   "outputs": [
    {
     "name": "stdout",
     "output_type": "stream",
     "text": [
      "337303\n"
     ]
    }
   ],
   "source": [
    "united_members = members1.union(members2).union(members3).union(members4)\n",
    "print(len(united_members))"
   ]
  },
  {
   "cell_type": "code",
   "execution_count": 45,
   "metadata": {},
   "outputs": [],
   "source": [
    "def save_members_to_file(filename, united_members):\n",
    "    with open(filename, 'w', encoding='utf-8') as f:\n",
    "        for member in members:\n",
    "            _id = member[\"id\"] # находим айди участника\n",
    "            first_name = member[\"first_name\"] # находим имя учатника\n",
    "            last_name = member[\"last_name\"] # находим фамилию учатника\n",
    "            \n",
    "            sex = member[\"sex\"] # находим пол учатника (1 или 2)\n",
    "            if int(sex) == 1:  # если пол это 1 \n",
    "                sex = \"F\"  # обозначем женский пол как F\n",
    "            elif int(sex) == 2:  # если пол это 2 \n",
    "                sex = \"M\" # обозначем мужской пол как F\n",
    "            else:  # если есть другой какой-то пол\n",
    "                sex = \"-\"  # скорее всего нет, поэтому ставим прочерк\n",
    "                \n",
    "            bdate = member.get('bdate', \"-\")   # находим день рождения учатника\n",
    "            if len(bdate.split(\".\")) == 3:  # нам нужен только год, если он есть\n",
    "                bdate = bdate.split(\".\")[-1]  # то сохраняем год\n",
    "            else:  # если год не указан, то возраст участника мы не узнаем\n",
    "                bdate = \"-\"  # поэтому прочерк\n",
    "                \n",
    "            city = member.get('city', {}).get(\"title\", \"-\")  # находим город участника\n",
    "            country = member.get('country', {}).get(\"title\", \"-\")  # находим страну участника\n",
    "            f.write(f\"{_id},\\t{first_name}\\t{last_name}\\t{sex}\\t{bdate}\\t{city}\\t{country}\\n\")  # сохраняем информацию в файл"
   ]
  },
  {
   "cell_type": "code",
   "execution_count": 48,
   "metadata": {},
   "outputs": [],
   "source": [
    "save_members_to_file (\"uni_members_pl_pr.tsv\", united_members)"
   ]
  },
  {
   "cell_type": "code",
   "execution_count": 60,
   "metadata": {},
   "outputs": [
    {
     "name": "stdout",
     "output_type": "stream",
     "text": [
      "50\n"
     ]
    }
   ],
   "source": [
    "intersected_members = members1.intersection(members2).intersection(members3).intersection(members4)\n",
    "print(len(intersected_members))"
   ]
  }
 ],
 "metadata": {
  "kernelspec": {
   "display_name": "Python 3",
   "language": "python",
   "name": "python3"
  },
  "language_info": {
   "codemirror_mode": {
    "name": "ipython",
    "version": 3
   },
   "file_extension": ".py",
   "mimetype": "text/x-python",
   "name": "python",
   "nbconvert_exporter": "python",
   "pygments_lexer": "ipython3",
   "version": "3.8.3"
  }
 },
 "nbformat": 4,
 "nbformat_minor": 4
}
